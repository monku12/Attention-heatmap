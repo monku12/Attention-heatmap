{
  "cells": [
    {
      "cell_type": "code",
      "source": [
        "import pandas as pd \n",
        "import numpy as np\n",
        "import keras\n",
        "from keras.layers import*\n",
        "from sklearn.model_selection import train_test_split\n",
        "import tensorflow as tf\n",
        "from keras.preprocessing.text import Tokenizer \n",
        "from keras.preprocessing.sequence import pad_sequences\n",
        "import re\n",
        "from keras.models import *\n",
        "from sklearn.utils import shuffle"
      ],
      "metadata": {
        "id": "wiV5e_PoA9oj"
      },
      "id": "wiV5e_PoA9oj",
      "execution_count": 1,
      "outputs": []
    },
    {
      "cell_type": "code",
      "source": [
        "### hyperparameters\n",
        "EPOCHS=100\n",
        "BATCH_SIZE=32\n",
        "MAX_SENTENCE_COUNT=1\n",
        "MAX_SENTENCE_LENGTH=40\n",
        "VOCAB_SIZE=15000\n",
        "EMBED_DIM=300\n",
        "PATIENCE=3"
      ],
      "metadata": {
        "id": "hEZdKkr-BCKB"
      },
      "id": "hEZdKkr-BCKB",
      "execution_count": 4,
      "outputs": []
    },
    {
      "cell_type": "code",
      "source": [
        "df = pd.read_csv('sentiment140.csv',encoding='latin-1')\n",
        "df = df[['label','tweet']]\n",
        "df[\"label\"].replace({4 : 1}, inplace=True)\n",
        "df = shuffle(df)"
      ],
      "metadata": {
        "id": "ajs3iZWNBGK-"
      },
      "id": "ajs3iZWNBGK-",
      "execution_count": 11,
      "outputs": []
    },
    {
      "cell_type": "code",
      "source": [
        "df"
      ],
      "metadata": {
        "colab": {
          "base_uri": "https://localhost:8080/",
          "height": 423
        },
        "id": "_306lI9VBIha",
        "outputId": "3cb68dca-42dc-469b-ba8e-6178ad2545f7"
      },
      "id": "_306lI9VBIha",
      "execution_count": 12,
      "outputs": [
        {
          "output_type": "execute_result",
          "data": {
            "text/html": [
              "\n",
              "  <div id=\"df-5535ec7d-caaf-4683-bf07-a6e824864291\">\n",
              "    <div class=\"colab-df-container\">\n",
              "      <div>\n",
              "<style scoped>\n",
              "    .dataframe tbody tr th:only-of-type {\n",
              "        vertical-align: middle;\n",
              "    }\n",
              "\n",
              "    .dataframe tbody tr th {\n",
              "        vertical-align: top;\n",
              "    }\n",
              "\n",
              "    .dataframe thead th {\n",
              "        text-align: right;\n",
              "    }\n",
              "</style>\n",
              "<table border=\"1\" class=\"dataframe\">\n",
              "  <thead>\n",
              "    <tr style=\"text-align: right;\">\n",
              "      <th></th>\n",
              "      <th>label</th>\n",
              "      <th>tweet</th>\n",
              "    </tr>\n",
              "  </thead>\n",
              "  <tbody>\n",
              "    <tr>\n",
              "      <th>1307112</th>\n",
              "      <td>1</td>\n",
              "      <td>good morning Morning Wolf.  http://tinyurl.com...</td>\n",
              "    </tr>\n",
              "    <tr>\n",
              "      <th>957257</th>\n",
              "      <td>1</td>\n",
              "      <td>@ptvjaime Happy Birthday Hi-Me</td>\n",
              "    </tr>\n",
              "    <tr>\n",
              "      <th>1562894</th>\n",
              "      <td>1</td>\n",
              "      <td>yeeaahhh. UP and Kabuki tomorrow with Maddie! ...</td>\n",
              "    </tr>\n",
              "    <tr>\n",
              "      <th>1574197</th>\n",
              "      <td>1</td>\n",
              "      <td>@torretwit lol i have never done a pub quiz bu...</td>\n",
              "    </tr>\n",
              "    <tr>\n",
              "      <th>1337639</th>\n",
              "      <td>1</td>\n",
              "      <td>Band myspace is looking goooood, having a doob...</td>\n",
              "    </tr>\n",
              "    <tr>\n",
              "      <th>...</th>\n",
              "      <td>...</td>\n",
              "      <td>...</td>\n",
              "    </tr>\n",
              "    <tr>\n",
              "      <th>194215</th>\n",
              "      <td>0</td>\n",
              "      <td>half-term is nearly over</td>\n",
              "    </tr>\n",
              "    <tr>\n",
              "      <th>26668</th>\n",
              "      <td>0</td>\n",
              "      <td>@TerenceSmelser Congrats!  Does this mean you ...</td>\n",
              "    </tr>\n",
              "    <tr>\n",
              "      <th>1375953</th>\n",
              "      <td>1</td>\n",
              "      <td>hello for a little bit twitterbugs! miss you all</td>\n",
              "    </tr>\n",
              "    <tr>\n",
              "      <th>1151550</th>\n",
              "      <td>1</td>\n",
              "      <td>Twittering from my new iPhone</td>\n",
              "    </tr>\n",
              "    <tr>\n",
              "      <th>105625</th>\n",
              "      <td>0</td>\n",
              "      <td>Nothing irritates me more then pregnant woman ...</td>\n",
              "    </tr>\n",
              "  </tbody>\n",
              "</table>\n",
              "<p>1599999 rows × 2 columns</p>\n",
              "</div>\n",
              "      <button class=\"colab-df-convert\" onclick=\"convertToInteractive('df-5535ec7d-caaf-4683-bf07-a6e824864291')\"\n",
              "              title=\"Convert this dataframe to an interactive table.\"\n",
              "              style=\"display:none;\">\n",
              "        \n",
              "  <svg xmlns=\"http://www.w3.org/2000/svg\" height=\"24px\"viewBox=\"0 0 24 24\"\n",
              "       width=\"24px\">\n",
              "    <path d=\"M0 0h24v24H0V0z\" fill=\"none\"/>\n",
              "    <path d=\"M18.56 5.44l.94 2.06.94-2.06 2.06-.94-2.06-.94-.94-2.06-.94 2.06-2.06.94zm-11 1L8.5 8.5l.94-2.06 2.06-.94-2.06-.94L8.5 2.5l-.94 2.06-2.06.94zm10 10l.94 2.06.94-2.06 2.06-.94-2.06-.94-.94-2.06-.94 2.06-2.06.94z\"/><path d=\"M17.41 7.96l-1.37-1.37c-.4-.4-.92-.59-1.43-.59-.52 0-1.04.2-1.43.59L10.3 9.45l-7.72 7.72c-.78.78-.78 2.05 0 2.83L4 21.41c.39.39.9.59 1.41.59.51 0 1.02-.2 1.41-.59l7.78-7.78 2.81-2.81c.8-.78.8-2.07 0-2.86zM5.41 20L4 18.59l7.72-7.72 1.47 1.35L5.41 20z\"/>\n",
              "  </svg>\n",
              "      </button>\n",
              "      \n",
              "  <style>\n",
              "    .colab-df-container {\n",
              "      display:flex;\n",
              "      flex-wrap:wrap;\n",
              "      gap: 12px;\n",
              "    }\n",
              "\n",
              "    .colab-df-convert {\n",
              "      background-color: #E8F0FE;\n",
              "      border: none;\n",
              "      border-radius: 50%;\n",
              "      cursor: pointer;\n",
              "      display: none;\n",
              "      fill: #1967D2;\n",
              "      height: 32px;\n",
              "      padding: 0 0 0 0;\n",
              "      width: 32px;\n",
              "    }\n",
              "\n",
              "    .colab-df-convert:hover {\n",
              "      background-color: #E2EBFA;\n",
              "      box-shadow: 0px 1px 2px rgba(60, 64, 67, 0.3), 0px 1px 3px 1px rgba(60, 64, 67, 0.15);\n",
              "      fill: #174EA6;\n",
              "    }\n",
              "\n",
              "    [theme=dark] .colab-df-convert {\n",
              "      background-color: #3B4455;\n",
              "      fill: #D2E3FC;\n",
              "    }\n",
              "\n",
              "    [theme=dark] .colab-df-convert:hover {\n",
              "      background-color: #434B5C;\n",
              "      box-shadow: 0px 1px 3px 1px rgba(0, 0, 0, 0.15);\n",
              "      filter: drop-shadow(0px 1px 2px rgba(0, 0, 0, 0.3));\n",
              "      fill: #FFFFFF;\n",
              "    }\n",
              "  </style>\n",
              "\n",
              "      <script>\n",
              "        const buttonEl =\n",
              "          document.querySelector('#df-5535ec7d-caaf-4683-bf07-a6e824864291 button.colab-df-convert');\n",
              "        buttonEl.style.display =\n",
              "          google.colab.kernel.accessAllowed ? 'block' : 'none';\n",
              "\n",
              "        async function convertToInteractive(key) {\n",
              "          const element = document.querySelector('#df-5535ec7d-caaf-4683-bf07-a6e824864291');\n",
              "          const dataTable =\n",
              "            await google.colab.kernel.invokeFunction('convertToInteractive',\n",
              "                                                     [key], {});\n",
              "          if (!dataTable) return;\n",
              "\n",
              "          const docLinkHtml = 'Like what you see? Visit the ' +\n",
              "            '<a target=\"_blank\" href=https://colab.research.google.com/notebooks/data_table.ipynb>data table notebook</a>'\n",
              "            + ' to learn more about interactive tables.';\n",
              "          element.innerHTML = '';\n",
              "          dataTable['output_type'] = 'display_data';\n",
              "          await google.colab.output.renderOutput(dataTable, element);\n",
              "          const docLink = document.createElement('div');\n",
              "          docLink.innerHTML = docLinkHtml;\n",
              "          element.appendChild(docLink);\n",
              "        }\n",
              "      </script>\n",
              "    </div>\n",
              "  </div>\n",
              "  "
            ],
            "text/plain": [
              "         label                                              tweet\n",
              "1307112      1  good morning Morning Wolf.  http://tinyurl.com...\n",
              "957257       1                    @ptvjaime Happy Birthday Hi-Me \n",
              "1562894      1  yeeaahhh. UP and Kabuki tomorrow with Maddie! ...\n",
              "1574197      1  @torretwit lol i have never done a pub quiz bu...\n",
              "1337639      1  Band myspace is looking goooood, having a doob...\n",
              "...        ...                                                ...\n",
              "194215       0                          half-term is nearly over \n",
              "26668        0  @TerenceSmelser Congrats!  Does this mean you ...\n",
              "1375953      1  hello for a little bit twitterbugs! miss you all \n",
              "1151550      1                     Twittering from my new iPhone \n",
              "105625       0  Nothing irritates me more then pregnant woman ...\n",
              "\n",
              "[1599999 rows x 2 columns]"
            ]
          },
          "metadata": {},
          "execution_count": 12
        }
      ]
    },
    {
      "cell_type": "code",
      "source": [
        "def processed_data(data):\n",
        "    data['tweet'] = data['tweet'].apply(lambda x: x.lower())\n",
        "    data['tweet'] = data['tweet'].apply(lambda x: re.sub('[^a-zA-z0-9\\s]','',x))\n",
        "\n",
        "    return data\n",
        "\n",
        "def x_value(data):\n",
        "    tokenizer = Tokenizer(num_words = VOCAB_SIZE, split=\" \")\n",
        "    tokenizer.fit_on_texts(data['tweet'].values)\n",
        "    x = tokenizer.texts_to_sequences(data['tweet'].values)\n",
        "    x = pad_sequences(x, padding='post', maxlen=MAX_SENTENCE_LENGTH)\n",
        "    \n",
        "    return x\n",
        "\n",
        "y = pd.get_dummies(df['label'])\n",
        "y = y.to_numpy()\n",
        "x = processed_data(df)\n",
        "x = x_value(df)"
      ],
      "metadata": {
        "id": "vs7UiqCABKbu"
      },
      "id": "vs7UiqCABKbu",
      "execution_count": 13,
      "outputs": []
    },
    {
      "cell_type": "code",
      "source": [
        "### Attention\n",
        "import keras.backend as K\n",
        "\n",
        "class attention(Layer):\n",
        "    def __init__(self,**kwargs):\n",
        "        super(attention,self).__init__(**kwargs)\n",
        "\n",
        "    def build(self,input_shape):\n",
        "        self.W=self.add_weight(name=\"att_weight\",shape=(input_shape[-1],1),initializer=\"normal\")\n",
        "        self.b=self.add_weight(name=\"att_bias\",shape=(input_shape[1],1),initializer=\"zeros\")        \n",
        "        super(attention, self).build(input_shape)\n",
        "\n",
        "    def call(self,x):\n",
        "        et=K.squeeze(K.tanh(K.dot(x,self.W)+self.b),axis=-1)\n",
        "        at=K.softmax(et)\n",
        "        at=K.expand_dims(at,axis=-1)\n",
        "        output=x*at\n",
        "        return K.sum(output,axis=1)\n",
        "\n",
        "    def compute_output_shape(self,input_shape):\n",
        "        return (input_shape[0],input_shape[-1])\n",
        "\n",
        "    def get_config(self):\n",
        "        return super(attention,self).get_config()"
      ],
      "metadata": {
        "id": "JpT4pUTnBNt-"
      },
      "id": "JpT4pUTnBNt-",
      "execution_count": 14,
      "outputs": []
    },
    {
      "cell_type": "code",
      "source": [
        "inputs = Input(shape=(MAX_SENTENCE_LENGTH,))\n",
        "embed = Embedding(input_dim=VOCAB_SIZE,\n",
        "                  output_dim=EMBED_DIM,\n",
        "                  input_length=MAX_SENTENCE_LENGTH)(inputs)\n",
        "\n",
        "word_encoder = Bidirectional(CuDNNLSTM(units=64,return_sequences=True,name='bilstm'))(embed)\n",
        "\n",
        "dense_transform_w = Dense(100,activation='relu',name='dense_transform_w')(word_encoder)\n",
        "\n",
        "att = attention(name='word_attention')(dense_transform_w)\n",
        "\n",
        "output = Dense(2,activation='softmax')(att)\n",
        "\n",
        "model = keras.Model(inputs, output)\n",
        "word_attention_model = model\n",
        "model.summary()"
      ],
      "metadata": {
        "colab": {
          "base_uri": "https://localhost:8080/"
        },
        "id": "3nkWIGmYBQy6",
        "outputId": "e8aff416-4b4f-4ea7-d84b-d00955e9b814"
      },
      "id": "3nkWIGmYBQy6",
      "execution_count": 15,
      "outputs": [
        {
          "output_type": "stream",
          "name": "stdout",
          "text": [
            "Model: \"model_2\"\n",
            "_________________________________________________________________\n",
            " Layer (type)                Output Shape              Param #   \n",
            "=================================================================\n",
            " input_4 (InputLayer)        [(None, 40)]              0         \n",
            "                                                                 \n",
            " embedding_3 (Embedding)     (None, 40, 300)           4500000   \n",
            "                                                                 \n",
            " bidirectional_2 (Bidirectio  (None, 40, 128)          187392    \n",
            " nal)                                                            \n",
            "                                                                 \n",
            " dense_transform_w (Dense)   (None, 40, 100)           12900     \n",
            "                                                                 \n",
            " word_attention (attention)  (None, 100)               140       \n",
            "                                                                 \n",
            " dense_2 (Dense)             (None, 2)                 202       \n",
            "                                                                 \n",
            "=================================================================\n",
            "Total params: 4,700,634\n",
            "Trainable params: 4,700,634\n",
            "Non-trainable params: 0\n",
            "_________________________________________________________________\n"
          ]
        }
      ]
    },
    {
      "cell_type": "code",
      "source": [
        "model.compile(loss='categorical_crossentropy',\n",
        "              optimizer='adam',\n",
        "              metrics=['accuracy'])\n",
        "\n",
        "early_stopping = keras.callbacks.EarlyStopping(monitor='accuracy', \n",
        "                                               mode='auto', \n",
        "                                               patience=PATIENCE, \n",
        "                                               verbose=1)"
      ],
      "metadata": {
        "id": "d33kcUO3Bmpw"
      },
      "id": "d33kcUO3Bmpw",
      "execution_count": 16,
      "outputs": []
    },
    {
      "cell_type": "code",
      "source": [
        "hist = model.fit(x, y, \n",
        "          epochs=5, \n",
        "          batch_size=BATCH_SIZE, \n",
        "          verbose=1,\n",
        "          callbacks=[early_stopping])"
      ],
      "metadata": {
        "colab": {
          "base_uri": "https://localhost:8080/"
        },
        "id": "LPFMG15MBwEz",
        "outputId": "4f8c6487-c51c-4e50-a54f-5f987bff3835"
      },
      "id": "LPFMG15MBwEz",
      "execution_count": 17,
      "outputs": [
        {
          "output_type": "stream",
          "name": "stdout",
          "text": [
            "50000/50000 [==============================] - 515s 10ms/step - loss: 0.3411 - accuracy: 0.8502\n",
            "Epoch 5/5\n",
            "50000/50000 [==============================] - 512s 10ms/step - loss: 0.3320 - accuracy: 0.8551\n"
          ]
        }
      ]
    },
    {
      "cell_type": "code",
      "source": [
        "tokenizer = Tokenizer(num_words = VOCAB_SIZE, split=\" \")\n",
        "tokenizer.fit_on_texts(df['tweet'].values)"
      ],
      "metadata": {
        "id": "vymcF3WNV-Pt"
      },
      "id": "vymcF3WNV-Pt",
      "execution_count": 21,
      "outputs": []
    },
    {
      "cell_type": "code",
      "source": [
        "a = [\"I am happy\"]\n",
        "text = a\n",
        "a = tokenizer.texts_to_sequences(a)\n",
        "a = np.array(a)\n",
        "a = pad_sequences(a, padding='post', maxlen=MAX_SENTENCE_LENGTH)\n",
        "prediction = model.predict(np.array(a))\n",
        "print(np.argmax(prediction))"
      ],
      "metadata": {
        "colab": {
          "base_uri": "https://localhost:8080/"
        },
        "id": "r5Sr0kNURgAr",
        "outputId": "0ae3b5ea-8e51-45f9-c749-6fbeae9b6ff1"
      },
      "id": "r5Sr0kNURgAr",
      "execution_count": 31,
      "outputs": [
        {
          "output_type": "stream",
          "name": "stdout",
          "text": [
            "1\n"
          ]
        }
      ]
    },
    {
      "cell_type": "code",
      "source": [
        "import string\n",
        "from spacy.lang.en import English\n",
        "from spacy.tokenizer import Tokenizer\n",
        "\n",
        "STOP_WORDS = ['the', 'a', 'an']\n",
        "nlp = English()\n",
        "nlp.add_pipe(nlp.create_pipe('sentencizer'))\n",
        "\n",
        "def normalize(text):\n",
        "    text = text.lower().strip()\n",
        "    doc = nlp(text)\n",
        "    filtered_sentences = []\n",
        "    for sentence in doc.sents:\n",
        "        filtered_tokens = list()\n",
        "        for i, w in enumerate(sentence):\n",
        "            s = w.string.strip()\n",
        "            if len(s) == 0 or s in string.punctuation and i < len(doc) - 1:\n",
        "                continue\n",
        "            if s not in STOP_WORDS:\n",
        "                s = s.replace(',', '.')\n",
        "                filtered_tokens.append(s)\n",
        "        filtered_sentences.append(' '.join(filtered_tokens))\n",
        "    return filtered_sentences"
      ],
      "metadata": {
        "id": "l2YasM90Vvji"
      },
      "id": "l2YasM90Vvji",
      "execution_count": 32,
      "outputs": []
    },
    {
      "cell_type": "code",
      "source": [
        "def _encode_texts(texts):\n",
        "\t\tencoded_texts = np.zeros((len(texts), MAX_SENTENCE_COUNT, MAX_SENTENCE_LENGTH))\n",
        "\t\tfor i, text in enumerate(texts):\n",
        "\t\t\tencoded_text = np.array(pad_sequences(\n",
        "\t\t\t\ttokenizer.texts_to_sequences(text), \n",
        "\t\t\t\tmaxlen=MAX_SENTENCE_LENGTH))[:MAX_SENTENCE_COUNT]\n",
        "\t\t\tencoded_texts[i][-len(encoded_text):] = encoded_text\n",
        "\t\treturn encoded_texts"
      ],
      "metadata": {
        "id": "LdBuW_t2XR7M"
      },
      "id": "LdBuW_t2XR7M",
      "execution_count": 33,
      "outputs": []
    },
    {
      "cell_type": "code",
      "source": [
        "reverse_word_index = {value:key for key,value in tokenizer.word_index.items()}\n",
        "def _encode_input(x, log=False):\n",
        "        x = np.array(x)\n",
        "        if not x.shape:\n",
        "            x = np.expand_dims(x, 0)\n",
        "        texts = np.array([normalize(text) for text in x])\n",
        "        return _encode_texts(texts)"
      ],
      "metadata": {
        "id": "hr50pAqSXO0R"
      },
      "id": "hr50pAqSXO0R",
      "execution_count": 34,
      "outputs": []
    },
    {
      "cell_type": "code",
      "source": [
        "def req(text):\n",
        "    normalized_text = text\n",
        "    encoded_text = _encode_input(text)[0]\n",
        "    hidden_word_encoding_out = Model(inputs=word_attention_model.input,\n",
        "                                    outputs=word_attention_model.get_layer('dense_transform_w').output)\n",
        "    hidden_word_encodings = hidden_word_encoding_out.predict(encoded_text)\n",
        "    word_context = word_attention_model.get_layer('word_attention').get_weights()[0]\n",
        "    u_wattention = encoded_text*np.exp(np.squeeze(np.dot(hidden_word_encodings, word_context)))\n",
        "  # generate word, activation pairs\n",
        "    nopad_encoded_text = encoded_text[-len(normalized_text):]\n",
        "    nopad_encoded_text = [list(filter(lambda x: x > 0, sentence)) for sentence in nopad_encoded_text]\n",
        "    reconstructed_texts = [[reverse_word_index[int(i)] \n",
        "                  for i in sentence] for sentence in nopad_encoded_text]\n",
        "    nopad_wattention = u_wattention[-len(normalized_text):]\n",
        "    nopad_wattention = nopad_wattention/np.expand_dims(np.sum(nopad_wattention, -1), -1)\n",
        "    nopad_wattention = np.array([attention_seq[-len(sentence):] \n",
        "                for attention_seq, sentence in zip(nopad_wattention, nopad_encoded_text)])\n",
        "    word_activation_maps = []\n",
        "    for i, text in enumerate(reconstructed_texts):\n",
        "        word_activation_maps.append(list(zip(text, nopad_wattention[i])))\n",
        "\n",
        "    return word_activation_maps"
      ],
      "metadata": {
        "id": "fHSa3N0LXUay"
      },
      "id": "fHSa3N0LXUay",
      "execution_count": 35,
      "outputs": []
    },
    {
      "cell_type": "code",
      "source": [
        "def heatmap(text):\n",
        "  import matplotlib.pyplot as plt\n",
        "  import seaborn as sns\n",
        "  import pandas as pd\n",
        "\n",
        "  req_list=req(text)\n",
        "  arr = np.array(req_list)\n",
        "  shape = arr.shape\n",
        "  new_arr=np.reshape(arr, (shape[1],shape[2]), order = 'C')\n",
        "  data_word=(new_arr.T[0]).tolist()\n",
        "  data_att=(new_arr.T[1]).tolist()\n",
        "  data_att=list(np.float_(data_att))\n",
        "  sns.set()\n",
        "  data_att = [data_att]\n",
        "              \n",
        "  d = pd.DataFrame(data = data_att, columns=data_word)\n",
        "  f, ax = plt.subplots(figsize=(10,0.5))\n",
        "  sns.heatmap(d, vmin=0, vmax=1.0, ax=ax, cmap=\"seismic\")\n",
        "  label_x = ax.get_xticklabels()\n",
        "  plt.setp(label_x, rotation=90, horizontalalignment='right')\n",
        "  plt.show()"
      ],
      "metadata": {
        "id": "yjltP2fBXfYR"
      },
      "id": "yjltP2fBXfYR",
      "execution_count": 187,
      "outputs": []
    },
    {
      "cell_type": "code",
      "source": [
        "heatmap('I am having a bad day')\n",
        "heatmap('He is very dissapointed')\n",
        "heatmap('You are looking happy')\n",
        "heatmap('the last 2 hours are always the worst cant wait for tonight though')\n",
        "heatmap('damn i missed the start of season 2 of true blood')\n",
        "heatmap('yeah good')\n",
        "heatmap('mandsywoo yeah good one your too funny')\n",
        "heatmap('wishes that this swine flu bollocks would just cease its really effecting his surf camps another cancellation great')"
      ],
      "metadata": {
        "colab": {
          "base_uri": "https://localhost:8080/",
          "height": 807
        },
        "id": "NUrJnVlhZeh1",
        "outputId": "27060c68-1c71-4c4a-cbbf-5c9831f2add4"
      },
      "id": "NUrJnVlhZeh1",
      "execution_count": 188,
      "outputs": [
        {
          "output_type": "display_data",
          "data": {
            "image/png": "[encoded data removed]",
            "text/plain": [
              "<Figure size 720x36 with 2 Axes>"
            ]
          },
          "metadata": {}
        },
        {
          "output_type": "display_data",
          "data": {
            "image/png": "[encoded data removed]",
            "text/plain": [
              "<Figure size 720x36 with 2 Axes>"
            ]
          },
          "metadata": {}
        },
        {
          "output_type": "display_data",
          "data": {
            "image/png": "[encoded data removed]",
            "text/plain": [
              "<Figure size 720x36 with 2 Axes>"
            ]
          },
          "metadata": {}
        },
        {
          "output_type": "display_data",
          "data": {
            "image/png": "[encoded data removed]",
            "text/plain": [
              "<Figure size 720x36 with 2 Axes>"
            ]
          },
          "metadata": {}
        },
        {
          "output_type": "display_data",
          "data": {
            "image/png": "[encoded data removed]",
            "text/plain": [
              "<Figure size 720x36 with 2 Axes>"
            ]
          },
          "metadata": {}
        },
        {
          "output_type": "display_data",
          "data": {
            "image/png": "[encoded data removed]",
            "text/plain": [
              "<Figure size 720x36 with 2 Axes>"
            ]
          },
          "metadata": {}
        },
        {
          "output_type": "display_data",
          "data": {
            "image/png": "[encoded data removed]",
            "text/plain": [
              "<Figure size 720x36 with 2 Axes>"
            ]
          },
          "metadata": {}
        },
        {
          "output_type": "display_data",
          "data": {
            "image/png": "[encoded data removed]",
            "text/plain": [
              "<Figure size 720x36 with 2 Axes>"
            ]
          },
          "metadata": {}
        }
      ]
    },
    {
      "cell_type": "code",
      "source": [
        ""
      ],
      "metadata": {
        "id": "yEoAi8sEk3-5"
      },
      "id": "yEoAi8sEk3-5",
      "execution_count": null,
      "outputs": []
    }
  ],
  "metadata": {
    "kernelspec": {
      "display_name": "Python 3 (ipykernel)",
      "language": "python",
      "name": "python3"
    },
    "language_info": {
      "codemirror_mode": {
        "name": "ipython",
        "version": 3
      },
      "file_extension": ".py",
      "mimetype": "text/x-python",
      "name": "python",
      "nbconvert_exporter": "python",
      "pygments_lexer": "ipython3",
      "version": "3.9.9"
    },
    "colab": {
      "name": "tweet_heatMap.ipynb",
      "provenance": []
    },
    "accelerator": "GPU"
  },
  "nbformat": 4,
  "nbformat_minor": 5
}